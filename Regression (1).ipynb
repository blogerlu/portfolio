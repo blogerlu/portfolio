{
 "cells": [
  {
   "cell_type": "code",
   "execution_count": 1288,
   "metadata": {},
   "outputs": [],
   "source": [
    "import numpy as np\n",
    "import torch\n",
    "import pandas as pd \n",
    "\n",
    "import matplotlib\n",
    "import matplotlib.pyplot as plt \n",
    "\n",
    "%matplotlib inline"
   ]
  },
  {
   "cell_type": "code",
   "execution_count": 1379,
   "metadata": {},
   "outputs": [],
   "source": [
    "def f_lin_reg(x):\n",
    "    return 3 * x - 4"
   ]
  },
  {
   "cell_type": "code",
   "execution_count": 1380,
   "metadata": {},
   "outputs": [],
   "source": [
    "def f_Poli_lin_reg(x):\n",
    "    return 3 * x ** 4 + 3 * x ** 3 - 5 * x **2 + x - 2"
   ]
  },
  {
   "cell_type": "markdown",
   "metadata": {
    "heading_collapsed": true
   },
   "source": [
    "## Линейная регрессия"
   ]
  },
  {
   "cell_type": "code",
   "execution_count": 1381,
   "metadata": {
    "code_folding": [
     0
    ],
    "hidden": true
   },
   "outputs": [],
   "source": [
    "class LinerRegression:\n",
    "    def __init__(self, lr = 1e-3):\n",
    "        self.lr = lr\n",
    "    def fit(self, X, y, it=1000):\n",
    "        \n",
    "        self.W = torch.tensor(np.random.random(X.reshape(-1, 1).shape[1] + 1).reshape(-1, 1), \n",
    "                              requires_grad = True)\n",
    "        X = torch.tensor(np.concatenate((X, np.ones(X.reshape(-1, 1).shape[0]).reshape(-1, 1)), axis=1))\n",
    "        y = torch.tensor(y)\n",
    "\n",
    "        for i in range(it):\n",
    "            loss = torch.mean((y - X@self.W) ** 2)\n",
    "            loss.backward()\n",
    "            self.W.data -= self.W.grad.data * self.lr\n",
    "            self.W.grad.zero_()\n",
    "        \n",
    "        return self.W\n",
    "            \n",
    "    def predict(self, X):\n",
    "        X = torch.tensor(np.concatenate((X, np.ones(X.reshape(-1, 1).shape[0]).reshape(-1, 1)), axis=1))\n",
    "        return (X@self.W).detach().numpy()"
   ]
  },
  {
   "cell_type": "code",
   "execution_count": 1382,
   "metadata": {
    "hidden": true
   },
   "outputs": [],
   "source": [
    "x = np.linspace(-3, 3, 200)\n",
    "y = f_lin_reg(x) + np.random.random(200) * 4"
   ]
  },
  {
   "cell_type": "code",
   "execution_count": 1383,
   "metadata": {
    "hidden": true
   },
   "outputs": [
    {
     "data": {
      "text/plain": [
       "<matplotlib.collections.PathCollection at 0x1404fdfa1c8>"
      ]
     },
     "execution_count": 1383,
     "metadata": {},
     "output_type": "execute_result"
    },
    {
     "data": {
      "image/png": "[encoded data removed]",
      "text/plain": [
       "<Figure size 432x288 with 1 Axes>"
      ]
     },
     "metadata": {
      "needs_background": "light"
     },
     "output_type": "display_data"
    }
   ],
   "source": [
    "plt.scatter(x, y)"
   ]
  },
  {
   "cell_type": "code",
   "execution_count": 1384,
   "metadata": {
    "hidden": true
   },
   "outputs": [],
   "source": [
    "model = LinerRegression(lr=1e-2)"
   ]
  },
  {
   "cell_type": "code",
   "execution_count": 1385,
   "metadata": {
    "hidden": true
   },
   "outputs": [
    {
     "data": {
      "text/plain": [
       "tensor([[ 3.0307],\n",
       "        [-1.8003]], dtype=torch.float64, requires_grad=True)"
      ]
     },
     "execution_count": 1385,
     "metadata": {},
     "output_type": "execute_result"
    }
   ],
   "source": [
    "w = model.fit(x.reshape(-1, 1), y.reshape(-1, 1), it=10000)\n",
    "w"
   ]
  },
  {
   "cell_type": "code",
   "execution_count": 1386,
   "metadata": {
    "hidden": true
   },
   "outputs": [
    {
     "data": {
      "text/plain": [
       "[<matplotlib.lines.Line2D at 0x1404fe34cc8>]"
      ]
     },
     "execution_count": 1386,
     "metadata": {},
     "output_type": "execute_result"
    },
    {
     "data": {
      "image/png": "[encoded data removed]",
      "text/plain": [
       "<Figure size 432x288 with 1 Axes>"
      ]
     },
     "metadata": {
      "needs_background": "light"
     },
     "output_type": "display_data"
    }
   ],
   "source": [
    "plt.scatter(x, y, c='y')\n",
    "plt.plot(x.reshape(-1, 1), model.predict(x.reshape(-1, 1)), c='r')"
   ]
  },
  {
   "cell_type": "markdown",
   "metadata": {
    "heading_collapsed": true
   },
   "source": [
    "## полиномиальная регрессия"
   ]
  },
  {
   "cell_type": "code",
   "execution_count": 1420,
   "metadata": {
    "code_folding": [
     0
    ],
    "hidden": true
   },
   "outputs": [],
   "source": [
    "class PolinomRegression:\n",
    "    def __init__(self, lr = 1e-3, pw = 2):\n",
    "        self.lr = lr\n",
    "        self.pw = pw\n",
    "    def fit(self, X, y, it=1000):\n",
    "        self.W = torch.tensor(np.random.random(X.reshape(-1, 1).shape[1] + self.pw).reshape(-1, 1), \n",
    "                              requires_grad = True)\n",
    "        \n",
    "        for i in range(1, self.pw):\n",
    "            X = np.concatenate((X[:, -1].reshape(-1, 1) ** (i + 1), X), axis=1)\n",
    "\n",
    "        X = torch.tensor(np.concatenate((X, np.ones(X.shape[0]).reshape(-1, 1)), axis=1))\n",
    "        y = torch.tensor(y)\n",
    "        \n",
    "        for i in range(it):\n",
    "            loss = torch.mean((y - X@self.W) ** 2)\n",
    "            loss.backward()\n",
    "            self.W.data -= self.W.grad.data * self.lr\n",
    "            self.W.grad.zero_()\n",
    "        \n",
    "        return self.W\n",
    "            \n",
    "    def predict(self, X):\n",
    "        \n",
    "        for i in range(1, self.pw):\n",
    "            X = np.concatenate((X[:, -1].reshape(-1, 1) ** (i + 1), X), axis=1)\n",
    "        X = torch.tensor(np.concatenate((X, np.ones(X.shape[0]).reshape(-1, 1)), axis=1))        \n",
    "        \n",
    "        return (X@self.W).detach().numpy()"
   ]
  },
  {
   "cell_type": "code",
   "execution_count": 1388,
   "metadata": {
    "hidden": true
   },
   "outputs": [],
   "source": [
    "x = np.linspace(-3, 3, 200)\n",
    "y = f_Poli_lin_reg(x) + np.random.random(200) * 10"
   ]
  },
  {
   "cell_type": "code",
   "execution_count": 1389,
   "metadata": {
    "hidden": true
   },
   "outputs": [
    {
     "data": {
      "text/plain": [
       "<matplotlib.collections.PathCollection at 0x1404fed0588>"
      ]
     },
     "execution_count": 1389,
     "metadata": {},
     "output_type": "execute_result"
    },
    {
     "data": {
      "image/png": "[encoded data removed]",
      "text/plain": [
       "<Figure size 432x288 with 1 Axes>"
      ]
     },
     "metadata": {
      "needs_background": "light"
     },
     "output_type": "display_data"
    }
   ],
   "source": [
    "plt.scatter(x, y)"
   ]
  },
  {
   "cell_type": "code",
   "execution_count": 1390,
   "metadata": {
    "hidden": true
   },
   "outputs": [],
   "source": [
    "model2 = PolinomRegression(pw=4)"
   ]
  },
  {
   "cell_type": "code",
   "execution_count": 1391,
   "metadata": {
    "hidden": true,
    "scrolled": true
   },
   "outputs": [
    {
     "data": {
      "text/plain": [
       "tensor([[ 2.9662],\n",
       "        [ 3.0801],\n",
       "        [-4.7125],\n",
       "        [ 0.6498],\n",
       "        [ 2.5955]], dtype=torch.float64, requires_grad=True)"
      ]
     },
     "execution_count": 1391,
     "metadata": {},
     "output_type": "execute_result"
    }
   ],
   "source": [
    "w = model2.fit(x.reshape(-1, 1), y.reshape(-1, 1), it=10000)\n",
    "w"
   ]
  },
  {
   "cell_type": "code",
   "execution_count": 1392,
   "metadata": {
    "hidden": true,
    "scrolled": true
   },
   "outputs": [
    {
     "data": {
      "text/plain": [
       "[<matplotlib.lines.Line2D at 0x1404ff2af88>]"
      ]
     },
     "execution_count": 1392,
     "metadata": {},
     "output_type": "execute_result"
    },
    {
     "data": {
      "image/png": "[encoded data removed]",
      "text/plain": [
       "<Figure size 432x288 with 1 Axes>"
      ]
     },
     "metadata": {
      "needs_background": "light"
     },
     "output_type": "display_data"
    }
   ],
   "source": [
    "plt.scatter(x, y, c='y')\n",
    "plt.plot(x.reshape(-1, 1), model2.predict(x.reshape(-1, 1)), c='b')"
   ]
  },
  {
   "cell_type": "markdown",
   "metadata": {
    "heading_collapsed": true
   },
   "source": [
    "## Логистическая регрессия"
   ]
  },
  {
   "cell_type": "code",
   "execution_count": 1393,
   "metadata": {
    "code_folding": [
     0
    ],
    "hidden": true
   },
   "outputs": [],
   "source": [
    "class LogRegression:\n",
    "    def __init__(self, lr = 1e-3):\n",
    "        self.lr = lr\n",
    "        \n",
    "    def sigmoid(self, x):\n",
    "        return 1 / (1 + 2.7 ** -x)\n",
    "    \n",
    "    def fit(self, X, y, it=1000):\n",
    "        a = []\n",
    "        \n",
    "        self.W = torch.tensor(np.random.random(X.reshape(-1, X.shape[1]).shape[1] + 1).reshape(-1, 1), \n",
    "                              requires_grad = True)\n",
    "        X = torch.tensor(np.concatenate((X, np.ones(X.reshape(-1, X.shape[1]).shape[0]).reshape(-1, 1)), axis=1))\n",
    "        y = torch.tensor(y)\n",
    "\n",
    "        for i in range(it):\n",
    "            for (x, lb) in zip(X, y):\n",
    "                loss = torch.log(1 + torch.exp(-lb * x@self.W))\n",
    "                loss.backward()\n",
    "                self.W.data -= self.W.grad.data * self.lr\n",
    "                q = self.W.grad.data\n",
    "                a.append(q.numpy().tolist())\n",
    "                self.W.grad.zero_()\n",
    "                \n",
    "                \n",
    "        return self.W, a\n",
    "            \n",
    "    def predict(self, X):\n",
    "        with torch.no_grad():\n",
    "            X = torch.tensor(np.concatenate((X, np.ones(X.reshape(-1, X.shape[1]).shape[0]).reshape(-1, 1)), axis=1))\n",
    "            self.pred_proba = self.sigmoid(X@self.W).detach().numpy()\n",
    "            \n",
    "            return np.where(self.pred_proba > 0.5, 1, -1)\n",
    "    def predict_proba(self):\n",
    "        return self.pred_proba"
   ]
  },
  {
   "cell_type": "code",
   "execution_count": 1394,
   "metadata": {
    "hidden": true
   },
   "outputs": [],
   "source": [
    "x1 = np.linspace(-2, 2, 20)\n",
    "x2 = np.linspace(2, 6, 20)\n",
    "\n",
    "X1 = np.concatenate((x1, x2))\n",
    "\n",
    "y1 = [-1] * 20\n",
    "y2 = [1] * 20\n",
    "\n",
    "Y1 = np.concatenate((y1, y2))\n",
    "data = pd.DataFrame({'x' : X1, 'y': Y1})\n",
    "data = data.sample(frac=1)"
   ]
  },
  {
   "cell_type": "code",
   "execution_count": 1395,
   "metadata": {
    "hidden": true
   },
   "outputs": [
    {
     "data": {
      "text/plain": [
       "<matplotlib.collections.PathCollection at 0x1404ffb90c8>"
      ]
     },
     "execution_count": 1395,
     "metadata": {},
     "output_type": "execute_result"
    },
    {
     "data": {
      "image/png": "[encoded data removed]",
      "text/plain": [
       "<Figure size 432x288 with 1 Axes>"
      ]
     },
     "metadata": {
      "needs_background": "light"
     },
     "output_type": "display_data"
    }
   ],
   "source": [
    "plt.scatter(data.x, data.y)"
   ]
  },
  {
   "cell_type": "code",
   "execution_count": 1396,
   "metadata": {
    "hidden": true
   },
   "outputs": [],
   "source": [
    "model3 = LogRegression()"
   ]
  },
  {
   "cell_type": "code",
   "execution_count": 1397,
   "metadata": {
    "hidden": true,
    "scrolled": true
   },
   "outputs": [],
   "source": [
    "a, b = model3.fit(np.array(data.x).reshape(-1, 1), np.array(data.y).reshape(-1, 1), it=1000)"
   ]
  },
  {
   "cell_type": "code",
   "execution_count": 1398,
   "metadata": {
    "hidden": true
   },
   "outputs": [
    {
     "data": {
      "text/plain": [
       "<matplotlib.collections.PathCollection at 0x14052b0d3c8>"
      ]
     },
     "execution_count": 1398,
     "metadata": {},
     "output_type": "execute_result"
    },
    {
     "data": {
      "image/png": "[encoded data removed]",
      "text/plain": [
       "<Figure size 432x288 with 1 Axes>"
      ]
     },
     "metadata": {
      "needs_background": "light"
     },
     "output_type": "display_data"
    }
   ],
   "source": [
    "plt.scatter(np.array(data.x).reshape(-1, 1), np.array(data.y).reshape(-1, 1), c='y')\n",
    "plt.scatter(np.array(data.x).reshape(-1, 1), model3.predict(np.array(data.x).reshape(-1, 1)))\n",
    "#plt.scatter(np.array(data.x).reshape(-1, 1), model4.predict(np.array(data.x).reshape(-1, 1)), c='r')"
   ]
  },
  {
   "cell_type": "code",
   "execution_count": 1399,
   "metadata": {
    "hidden": true
   },
   "outputs": [
    {
     "data": {
      "text/plain": [
       "<matplotlib.collections.PathCollection at 0x14052a7ce48>"
      ]
     },
     "execution_count": 1399,
     "metadata": {},
     "output_type": "execute_result"
    },
    {
     "data": {
      "image/png": "[encoded data removed]",
      "text/plain": [
       "<Figure size 432x288 with 1 Axes>"
      ]
     },
     "metadata": {
      "needs_background": "light"
     },
     "output_type": "display_data"
    }
   ],
   "source": [
    "plt.scatter(np.array(data.x).reshape(-1, 1), model3.predict_proba())"
   ]
  },
  {
   "cell_type": "markdown",
   "metadata": {
    "heading_collapsed": true
   },
   "source": [
    "## Полиномиальная логистическая регрессия"
   ]
  },
  {
   "cell_type": "code",
   "execution_count": 1400,
   "metadata": {
    "hidden": true
   },
   "outputs": [],
   "source": [
    "class PoliLogRegression:\n",
    "    def __init__(self, lr=1e-3, pw=1):\n",
    "        self.lr = lr\n",
    "        self.pw = pw\n",
    "        \n",
    "    def sigmoid(self, x):\n",
    "        return 1 / (1 + 2.7 ** -x)\n",
    "    \n",
    "    def fit(self, X, y, it=1000):\n",
    "        a = []\n",
    "\n",
    "        self.W = torch.tensor(np.random.random(X.reshape(-1, 1).shape[1] + self.pw).reshape(-1, 1), \n",
    "                              requires_grad = True)\n",
    "        \n",
    "    \n",
    "        for i in range(1, self.pw):\n",
    "            X = np.concatenate((X[:, -1].reshape(-1, 1) ** (i + 1), X), axis=1)\n",
    "\n",
    "        X = torch.tensor(np.concatenate((X, np.ones(X.reshape(-1, X.shape[1]).shape[0]).reshape(-1, 1)), axis=1))\n",
    "        y = torch.tensor(y)\n",
    "\n",
    "        for i in range(it):\n",
    "            for (x, lb) in zip(X, y):\n",
    "\n",
    "                loss = torch.log(1 + torch.exp(-lb * x@self.W))\n",
    "                loss.backward()\n",
    "                self.W.data -= self.W.grad.data * self.lr\n",
    "                q = self.W.grad.data\n",
    "                a.append(q.numpy().tolist())\n",
    "                self.W.grad.zero_()\n",
    "                \n",
    "                \n",
    "        return self.W, a\n",
    "            \n",
    "    def predict(self, X):\n",
    "        with torch.no_grad():\n",
    "            for i in range(1, self.pw):\n",
    "                X = np.concatenate((X[:, -1].reshape(-1, 1) ** (i + 1), X), axis=1)\n",
    "            X = torch.tensor(np.concatenate((X, np.ones(X.shape[0]).reshape(-1, 1)), axis=1))    \n",
    "            self.pred_proba = self.sigmoid(X@self.W).detach().numpy()\n",
    "            \n",
    "            return np.where(self.pred_proba > 0.5, 1, -1)\n",
    "    def predict_proba(self):\n",
    "        return self.pred_proba"
   ]
  },
  {
   "cell_type": "code",
   "execution_count": 1414,
   "metadata": {
    "hidden": true
   },
   "outputs": [],
   "source": [
    "x1 = np.linspace(-2, 2, 20)\n",
    "x2 = np.linspace(2, 6, 20)\n",
    "x3 = np.linspace(6, 15, 40)\n",
    "\n",
    "X1 = np.concatenate((x1, x2, x3))\n",
    "\n",
    "y1 = [-1] * 20\n",
    "y2 = [1] * 20\n",
    "y3 = [-1] * 40\n",
    "\n",
    "Y1 = np.concatenate((y1, y2, y3))\n",
    "data = pd.DataFrame({'x' : X1, 'y': Y1})\n",
    "data = data.sample(frac=1)"
   ]
  },
  {
   "cell_type": "code",
   "execution_count": 1415,
   "metadata": {
    "hidden": true
   },
   "outputs": [
    {
     "data": {
      "text/plain": [
       "<matplotlib.collections.PathCollection at 0x14056dbca48>"
      ]
     },
     "execution_count": 1415,
     "metadata": {},
     "output_type": "execute_result"
    },
    {
     "data": {
      "image/png": "[encoded data removed]",
      "text/plain": [
       "<Figure size 432x288 with 1 Axes>"
      ]
     },
     "metadata": {
      "needs_background": "light"
     },
     "output_type": "display_data"
    }
   ],
   "source": [
    "plt.scatter(data.x, data.y)"
   ]
  },
  {
   "cell_type": "code",
   "execution_count": 1416,
   "metadata": {
    "hidden": true
   },
   "outputs": [],
   "source": [
    "model4 = PoliLogRegression(pw=2)"
   ]
  },
  {
   "cell_type": "code",
   "execution_count": 1417,
   "metadata": {
    "hidden": true
   },
   "outputs": [],
   "source": [
    "a, b = model4.fit(np.array(data.x).reshape(-1, 1), np.array(data.y).reshape(-1, 1), it=1000)"
   ]
  },
  {
   "cell_type": "code",
   "execution_count": 1418,
   "metadata": {
    "hidden": true
   },
   "outputs": [
    {
     "data": {
      "text/plain": [
       "<matplotlib.collections.PathCollection at 0x140499fdf48>"
      ]
     },
     "execution_count": 1418,
     "metadata": {},
     "output_type": "execute_result"
    },
    {
     "data": {
      "image/png": "[encoded data removed]",
      "text/plain": [
       "<Figure size 432x288 with 1 Axes>"
      ]
     },
     "metadata": {
      "needs_background": "light"
     },
     "output_type": "display_data"
    }
   ],
   "source": [
    "plt.scatter(np.array(data.x).reshape(-1, 1), np.array(data.y).reshape(-1, 1), c='y')\n",
    "plt.scatter(np.array(data.x).reshape(-1, 1), model4.predict(np.array(data.x).reshape(-1, 1)), c='r')"
   ]
  },
  {
   "cell_type": "code",
   "execution_count": 1419,
   "metadata": {
    "hidden": true
   },
   "outputs": [
    {
     "data": {
      "text/plain": [
       "<matplotlib.collections.PathCollection at 0x140501db5c8>"
      ]
     },
     "execution_count": 1419,
     "metadata": {},
     "output_type": "execute_result"
    },
    {
     "data": {
      "image/png": "[encoded data removed]",
      "text/plain": [
       "<Figure size 432x288 with 1 Axes>"
      ]
     },
     "metadata": {
      "needs_background": "light"
     },
     "output_type": "display_data"
    }
   ],
   "source": [
    "plt.scatter(np.array(data.x).reshape(-1, 1), model4.predict_proba())"
   ]
  },
  {
   "cell_type": "code",
   "execution_count": null,
   "metadata": {
    "hidden": true
   },
   "outputs": [],
   "source": []
  },
  {
   "cell_type": "code",
   "execution_count": null,
   "metadata": {
    "hidden": true
   },
   "outputs": [],
   "source": []
  }
 ],
 "metadata": {
  "kernelspec": {
   "display_name": "Python 3",
   "language": "python",
   "name": "python3"
  },
  "language_info": {
   "codemirror_mode": {
    "name": "ipython",
    "version": 3
   },
   "file_extension": ".py",
   "mimetype": "text/x-python",
   "name": "python",
   "nbconvert_exporter": "python",
   "pygments_lexer": "ipython3",
   "version": "3.7.9"
  }
 },
 "nbformat": 4,
 "nbformat_minor": 4
}
